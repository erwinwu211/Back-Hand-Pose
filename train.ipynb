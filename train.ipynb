{
 "cells": [
  {
   "cell_type": "code",
   "execution_count": null,
   "metadata": {},
   "outputs": [],
   "source": [
    "import os\n",
    "os.environ[\"CUDA_VISIBLE_DEVICES\"]=\"0,1\"\n",
    "!nvidia-smi\n"
   ]
  },
  {
   "cell_type": "code",
   "execution_count": null,
   "metadata": {},
   "outputs": [],
   "source": [
    "import glob\n",
    "import cv2\n",
    "import numpy as np\n",
    "import tensorflow as tf\n",
    "import math\n",
    "from tensorflow.keras.layers import Conv2D, Input, Activation, Flatten, Dense, TimeDistributed, LSTM, Concatenate, Add\n",
    "from tensorflow.keras.models import Model\n",
    "from tensorflow.keras.optimizers import Adam\n",
    "\n",
    "from network import ResNet18, KF\n",
    "from dataloader import LoadData, DataPreprocessing"
   ]
  },
  {
   "cell_type": "code",
   "execution_count": null,
   "metadata": {},
   "outputs": [],
   "source": [
    "#Hyper Parameters\n",
    "batch_size = 8\n",
    "lr = 0.00001\n",
    "epochs = 300\n",
    "input_shape1 = (5,224,224,3)\n",
    "input_shape2 = (5,224,224,1)\n",
    "data_path = 'data/'\n",
    "data_name = 'TapData_P1_window5.npz'"
   ]
  },
  {
   "cell_type": "code",
   "execution_count": null,
   "metadata": {},
   "outputs": [],
   "source": [
    "#Data Loader\n",
    "print('Loading Data...')\n",
    "#training data\n",
    "data = np.load(data_path+'train/'+ data_name)\n",
    "train_x = data['arr_0']\n",
    "train_y = data['arr_1']\n",
    "if train_x.shape[0] == train_y.shape[0]:\n",
    "    print(str(train_x.shape[0]*train_x.shape[1]) + \" training images loaded.\")\n",
    "\n",
    "#test data\n",
    "data = np.load(data_path+'test/'+ data_name)\n",
    "test_x = data['arr_0']\n",
    "test_y = data['arr_1']\n",
    "if test_x.shape[0] == test_y.shape[0]:\n",
    "    print(str(test_x.shape[0]*train_x.shape[1]) + \" test images loaded.\")\n",
    "\n",
    "output_shape = train_y.shape[1]"
   ]
  },
  {
   "cell_type": "code",
   "execution_count": null,
   "metadata": {},
   "outputs": [],
   "source": [
    "#remove background, generate motion history\n",
    "train_x1, train_x2 = DataPreprocessing(train_x, input_shape1, input_shape2) \n",
    "test_x1, test_x2 = DataPreprocessing(test_x, input_shape1, input_shape2)"
   ]
  },
  {
   "cell_type": "code",
   "execution_count": null,
   "metadata": {},
   "outputs": [],
   "source": [
    "#Create data sequence\n",
    "train_ds = LoadData(train_x1,train_x2,train_y,batch_size)\n",
    "vali_ds = LoadData(test_x1,test_x2,test_y,batch_size)"
   ]
  },
  {
   "cell_type": "code",
   "execution_count": null,
   "metadata": {},
   "outputs": [],
   "source": [
    "def network(input_shape1, input_shape2, output_shape, batch_size):\n",
    "    \n",
    "    resnet18 = ResNet18(weights=None, include_top=False)\n",
    "    resnet18_gray = ResNet18(weights=None, include_top=False, input_shape=(224,224,1))\n",
    "\n",
    "    inp1 = Input(input_shape1,batch_size)\n",
    "    inp2 = Input(input_shape2,batch_size)\n",
    "    \n",
    "    x1 = TimeDistributed(resnet18)(inp1)\n",
    "    x1 = TimeDistributed(Flatten())(x1)\n",
    "    \n",
    "    x2 = TimeDistributed(resnet18_gray)(inp2)\n",
    "    x2 = TimeDistributed(Flatten())(x2)\n",
    "    \n",
    "    x = Concatenate()([x1,x2])\n",
    "    x = TimeDistributed(Dense(64))(x)\n",
    "    lstm_out = LSTM(128, stateful=True)(x)\n",
    "    x = KF()(lstm_out)\n",
    "    x = Add()([x,lstm_out])\n",
    "    x = Dense(64)(x)\n",
    "    \n",
    "    out = Dense(output_shape, activation = 'sigmoid')(x)\n",
    "  \n",
    "    model = Model([inp1,inp2], out)\n",
    "    return model"
   ]
  },
  {
   "cell_type": "code",
   "execution_count": null,
   "metadata": {},
   "outputs": [],
   "source": [
    "model = network((5,224,224,3),(5,224,224,1), output_shape, batch_size)\n",
    "opt = Adam(learning_rate = lr)\n",
    "model.compile(loss='mse', optimizer=opt)\n",
    "#model.summary()"
   ]
  },
  {
   "cell_type": "code",
   "execution_count": null,
   "metadata": {},
   "outputs": [],
   "source": [
    "from tensorflow.keras.callbacks import ModelCheckpoint, EarlyStopping, TensorBoard\n",
    "cp = ModelCheckpoint(filepath = 'model/PredConvLSTM-{epoch:03d}.h5',\n",
    "                     save_weights_only = False,\n",
    "                     #monitor = 'val_loss',\n",
    "                     #save_best_only = False,\n",
    "                     #mode = 'min',\n",
    "                     period  = 5\n",
    "                    ) \n",
    "callbacks = [cp]"
   ]
  },
  {
   "cell_type": "code",
   "execution_count": null,
   "metadata": {},
   "outputs": [],
   "source": [
    "model.fit(train_ds,\n",
    "          batch_size = batch_size, \n",
    "          epochs = epochs,\n",
    "          validation_data = vali_ds,\n",
    "          shuffle = False,\n",
    "          callbacks = callbacks)"
   ]
  },
  {
   "cell_type": "code",
   "execution_count": null,
   "metadata": {},
   "outputs": [],
   "source": [
    "model.save('model/PredConvLSTM-final.h5')"
   ]
  }
 ],
 "metadata": {
  "kernelspec": {
   "display_name": "tf",
   "language": "python",
   "name": "tf"
  },
  "language_info": {
   "codemirror_mode": {
    "name": "ipython",
    "version": 3
   },
   "file_extension": ".py",
   "mimetype": "text/x-python",
   "name": "python",
   "nbconvert_exporter": "python",
   "pygments_lexer": "ipython3",
   "version": "3.7.9"
  }
 },
 "nbformat": 4,
 "nbformat_minor": 4
}
